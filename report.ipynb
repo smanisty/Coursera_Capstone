{
 "cells": [
  {
   "cell_type": "markdown",
   "metadata": {},
   "source": [
    "# Introduction/Business Problem\n",
    "\n",
    "London is a highly populous city aswell as a culinary hub, with consumer spending on eating out equalling around £84bn last year. The opportunity for existing restauranters or entreprenuers to take a slice of the market is clear. Despite a large market, opening a restaurant can be a difficult decision as many factors can determine whether this decision is a profitable one. It might be tempting to assume that the more dense an area, the more potential there is for revenue. It could also mean that there is more competition, giving a larger share of the revenue. \n",
    "\n",
    "We will look to determine whether population density is a factor in how many restaurants are in that area, and explore what factors might affect the popularity of restaurants in the area. We use population density rather than population as areas are often arbitry and size and this would not be reflected in the results. We will need to explore a way to come up with a de facto measure of population/number of visitors, and compare this against population density. If a dense area seems to be highly popular, then it will make sense to target these areas. However, it is a well known that more densely populated areas result in high land costs. We will use the correlation between population density, land costs and popularity to see whether there is a correlation and if so, which areas in London to target. \n",
    "\n",
    "\n"
   ]
  },
  {
   "cell_type": "markdown",
   "metadata": {},
   "source": [
    "# Data\n",
    "\n",
    "We will be using open source information on London Boroughs, avaialble on wikipedia, to give the location of each borough and the corresponding population density. We will also use open source data to find the property price for each borough - using the mean based on private residential property (data for commercial property not available). This will be used a proxy for overall land/property price. \n",
    "\n",
    "We will use the Foursquare API to get restaurants within each Borough (or with the appropriate approximation). \n",
    "\n",
    "The foursquare API will only allow us to get limited information about each restuarant, without being an Authorised user for each one. For example, we will not be able to get the number of visits for each restaurant. Luckily, we are able to get a count of the number of 'likes', which again can be used a proxy for the popularity of each restuarant and the potential revenue. "
   ]
  },
  {
   "cell_type": "markdown",
   "metadata": {},
   "source": [
    "# Methodology\n",
    "\n",
    "The first step will be to import the open source data into workable Pandas dataframes. Population and area information will be imported from wikipedia. The population density will then be calculated using density = population/area. \n",
    "\n",
    "Geographical coordinates will be imported from a seperate wikipedia source LINK. This will be then be merged with the previous data frame. \n",
    "\n",
    "Average land price for each area will is found from a downloadable CSV which will be uploaded and imported and again merged with the previous data frame. \n",
    "\n",
    "We will then have a dataframe with all the relevant information pertaining to each London borough. \n",
    "\n",
    "Venue information for each borough will be imported using the Foursquare API, which will provide a list of all nearby resturants ('food venues') from the centrepoint of each Borough. We will then perform a seperate API call series which will extract the number of likes for each venue. We will combine this information and group to get the total number of venue likes for each borough. \n",
    "\n",
    "We will then have a dataframe with the number of venues and likes for each borough, alongside the population density.\n",
    "\n",
    "We will peform a linear regression analysis to see whether there is a correlation between population density and number of venues, to sense check our initial assumption that more venues are found in a more densely populated area, and whether this can be used as a predictor. \n",
    "\n",
    "To test our main assumption, which is that venue 'popularity' correlates with population density, we will perform another regression analysis on total venue likes against population density per borough. We will attempt to find the best linear fit (including non-linear features n) which gives us a numerical predictor. \n",
    "\n",
    "We will perform a final linear regression analysis to see whether property prices correlate with popularity. This will answer the 'business question' at hand, which is whether profit is more likely to be had in densely populated areas ('popularity' as the proxy for revenue and property prices as a proxy for operating cost). \n",
    "\n",
    "We can then determine numerical values for profit for each Borough, using profit = revenue - cost, which equates to profit = likes - land price using our proxies (n.b. profit will be in arbitrary units and NOT in pounds, and used as a comparison between each borough to test our hypothesis, as opposed to a real value prediction). "
   ]
  },
  {
   "cell_type": "markdown",
   "metadata": {},
   "source": [
    "# Results\n",
    "\n",
    "## Correlation between population density and number of venues\n",
    "\n",
    "The graph below shows the plot of number of food venues against population density by borough.\n",
    "<img src=\"files/counts.png\">\n",
    " A straight line fit shows a slight increase in venue counts with increasing population density. We run regression analysis to find that the R^2 score for the regressor is 0.11, suggesting a weak positive correlation between venue count and population density. \n",
    " \n",
    "## Correlation between likes and population density\n",
    "\n",
    "The graph below shows the plot of venue likes vs population density. Here we can see a more pronounced trend with increasing venue likes with population density. At lower densities, venue likes are low and steady, however at high densities, the venue likes increase significantly. \n",
    "\n",
    "\n",
    "<img src=\"files/likesraw.png\">\n",
    "\n",
    "We perform a series of linear regression analyses using a range non-linear features n ranging from 0 to 6. The results are given in the table below. \n",
    "\n",
    "|n|R^2|\n",
    "| --- | --- |\n",
    "|0| 0.0|\n",
    "|1| 0.3235399039894933|\n",
    "|2| 0.3235400702421294|\n",
    "|3| 0.41969550837926084|\n",
    "|4| 0.46517254058849167|\n",
    "|5| 0.45342332906452343|\n",
    "|6| 0.4302161242651724|\n",
    "\n",
    "We can see from the results that the optimal fit is at n=4, the equivalent of a quartic feature. The result of 0.45 shows a fair positive correlation between  We plot the results of the n=4 regression against the original plot to see the predicted values against actual.\n",
    "\n",
    "<img src=\"files/likesfit2.png\">\n",
    "\n",
    "The results show that many values do not match, especially at higher densities. This owes to the high variability in likes across similarly dense boroughs. However, the quartic feature for this plot captures a far better correlation than the linear one of number of venues against population. \n",
    "\n",
    "## Correlation between likes and average property price\n",
    "\n",
    "The graph below shows a plot of total venue likes against average property price for each borough. It shows bunched results at lower valued boroughs, which spread out at higher values. Certain average property price can give a wide range of total venue likes, showing discrepency between boroughs. However there is an overall positive trend, giving what we would expect in our hypothesis.\n",
    "\n",
    "<img src=\"files/pricefit.png\">\n",
    "\n",
    "We run a series of regression analysis with increasing order of features, giving the following results\n",
    "\n",
    "|n|R^2|\n",
    "| --- | --- |\n",
    "|0| 0.0|\n",
    "|1| 0.35362198546965984|\n",
    "|2| 0.35487771049293537|\n",
    "|3| 0.38399383627366535|\n",
    "|4| 0.39706200852530593|\n",
    "|5| 0.4115021852965286|\n",
    "|6| 0.4254864670554528|\n",
    "|7| 0.43739556612446595|\n",
    "|8| 0.44627884473978774|\n",
    "|9| 0.4519521927971014|\n",
    "|10| 0.45479710344036484|\n",
    "\n",
    "We see that in this circumstance, the higher the number of features, the stronger the correlation. However, we run the risk of overfitting by using very high features, and we get marginal gains at higher numbers, so we will call an arbitrary stop point at n = 10, where the change in correlation has stopped increasing (at the 2 signifcant figure mark).\n",
    "\n",
    "\n",
    "A final run of n=10 gives the resulting overlay on our original plot\n",
    "\n",
    "<img src=\"files/pricefit2.png\">\n",
    "\n",
    "We can see that the trend line fits the plot the best so far, showing a stronger positive correlation. Many of the predicted values lie close to the actual value.\n",
    "\n",
    "## Profit and popularity\n",
    "\n",
    "THe below shows a plot of profit against borough density. At higher densities, we get more extreme values and a higher fluctuation. In general, profit increases with population density. \n",
    "\n",
    "<img src=\"files/profit1.png\">\n",
    "\n",
    "We peform a final regression analysis to give the following\n",
    "\n",
    "<img src=\"files/profit2.png\">\n",
    "\n",
    "This gives a positive correlation but drops down again at very high values. "
   ]
  },
  {
   "cell_type": "markdown",
   "metadata": {},
   "source": [
    "# Discussion\n",
    "\n",
    "For each analysis, we find a positive correlation as hypothesised. However, the correlation is never extemely strong at any point, showing moderate at best. A factor for this is the high amount of variability seen in the results, especially at high population densities. It could easily be said that rather than increasing venue popularity at high densitities, there is simply more variation. \n",
    "\n",
    "Each regression analysis shows a positive increase at higher values, however most do drop off at the highest values. This is more of a product of overfitting than anything. To provide a realistic predictor, a non-linear regressor would need to be used, which is out of the scope of this course. Otherwise, we faced with a decision between a less-well fitting linear regressor or giving non linear features that do not make hypothetical sense in our situation (popularity increasing then dropping back down for very high densities). Given the distribution of the graph, it is more likely that this comes from the high variability discussed rather than any actual underlying trend seen in London. \n",
    "\n",
    "The strongest pattern found was in fact for average property price, rather than density. However, both results show a positive correlation as expected and were more exploratory for our final analysis of profit. If we saw conflicting trends, (such as one being positive but the other negatively correlated) we would need to be concerened that there is something wrong with our analysis or the data is insufficient to draw any conclusions. However, we get positive correlations as expected so we can comfortably draw an indirect parralel between the two - i.e. Venue popularity, density and property price for each borough are linked and positively correlated. \n",
    "\n",
    "Our final result shows that profit increases with population density, until a certain point where it drops off from this peak. As discussed previously, this result is probably due to overfitting of the data and again, a non linear regressor would suit this better. Using this, we would expect to see an exponential/logarithmic trend of increasing profit with population density, which generalises better. \n",
    "\n"
   ]
  },
  {
   "cell_type": "markdown",
   "metadata": {},
   "source": [
    "# Conclusion\n",
    "\n",
    "In summary, we can conclude that denser areas of london are more profitable in general, hence answering the business question of where to invest in a food restaurant. Despite having more venues and more competition, the higher density of people still outweigh this and provide more overall profit. We would need to perform non linear regression to more accurately predict what the actual correlation is and predict. However, there is a high variability of results and so it may not be possible to at all accurately predict what the actual increase in profit is for higher density areas."
   ]
  },
  {
   "cell_type": "markdown",
   "metadata": {},
   "source": []
  }
 ],
 "metadata": {
  "kernelspec": {
   "display_name": "Python 3",
   "language": "python",
   "name": "python3"
  },
  "language_info": {
   "codemirror_mode": {
    "name": "ipython",
    "version": 3
   },
   "file_extension": ".py",
   "mimetype": "text/x-python",
   "name": "python",
   "nbconvert_exporter": "python",
   "pygments_lexer": "ipython3",
   "version": "3.7.4"
  }
 },
 "nbformat": 4,
 "nbformat_minor": 4
}
